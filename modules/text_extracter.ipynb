{
 "cells": [
  {
   "cell_type": "code",
   "execution_count": 3,
   "id": "b2398822",
   "metadata": {},
   "outputs": [
    {
     "name": "stdout",
     "output_type": "stream",
     "text": [
      "✅ Done! Extracted 1348626 clauses to D:\\GRAG_\\ContractClauseExplainer\\data\\clauses.json\n"
     ]
    }
   ],
   "source": [
    "import os\n",
    "import fitz\n",
    "import json\n",
    "import re\n",
    "\n",
    "# Paths\n",
    "pdf_folder = r\"D:\\GRAG_\\ContractClauseExplainer\\data\\Pdf Data\"\n",
    "text_folder = r\"D:\\GRAG_\\ContractClauseExplainer\\data\\Text Data\"\n",
    "\n",
    "# Clause chunking function\n",
    "def chunk_text_into_clauses(text, min_length=30):\n",
    "    raw_clauses = re.split(r'(?<=[.;:])\\s+', text)\n",
    "    return [c.strip() for c in raw_clauses if len(c.strip()) > min_length]\n",
    "\n",
    "# Extract clauses from .txt files\n",
    "def process_txt_files(folder_path):\n",
    "    clauses = []\n",
    "    for filename in os.listdir(folder_path):\n",
    "        if filename.endswith(\".txt\"):\n",
    "            with open(os.path.join(folder_path, filename), \"r\", encoding=\"utf-8\") as f:\n",
    "                text = f.read()\n",
    "            clauses.extend(chunk_text_into_clauses(text))\n",
    "    return clauses\n",
    "\n",
    "# Extract clauses from .pdf files\n",
    "def process_pdf_files(folder_path):\n",
    "    clauses = []\n",
    "    for filename in os.listdir(folder_path):\n",
    "        if filename.endswith(\".pdf\"):\n",
    "            doc = fitz.open(os.path.join(folder_path, filename))\n",
    "            text = \"\\n\".join([page.get_text() for page in doc])\n",
    "            clauses.extend(chunk_text_into_clauses(text))\n",
    "    return clauses\n",
    "\n",
    "# Combine and export\n",
    "def build_clause_json():\n",
    "    all_clauses = []\n",
    "    all_clauses += process_txt_files(text_folder)\n",
    "    all_clauses += process_pdf_files(pdf_folder)\n",
    "\n",
    "    output_path = r\"D:\\GRAG_\\ContractClauseExplainer\\data\\clauses.json\"\n",
    "    with open(output_path, \"w\", encoding=\"utf-8\") as f:\n",
    "        json.dump(all_clauses, f, ensure_ascii=False, indent=2)\n",
    "\n",
    "    print(f\"✅ Done! Extracted {len(all_clauses)} clauses to {output_path}\")\n",
    "\n",
    "# Run it\n",
    "build_clause_json()"
   ]
  },
  {
   "cell_type": "code",
   "execution_count": 3,
   "id": "f4cad459",
   "metadata": {},
   "outputs": [
    {
     "name": "stdout",
     "output_type": "stream",
     "text": [
      "✅ Done! Extracted 42696 clauses to D:\\GRAG_\\ContractClauseExplainer\\data\\clauses.txt\n"
     ]
    }
   ],
   "source": [
    "import os\n",
    "import fitz  # PyMuPDF\n",
    "import re\n",
    "\n",
    "# 🛠️ Paths to your data folders\n",
    "pdf_folder = r\"D:\\GRAG_\\ContractClauseExplainer\\data\\Pdf Data\"\n",
    "# text_folder = r\"D:\\GRAG_\\ContractClauseExplainer\\data\\Text Data\"\n",
    "\n",
    "# ✂️ Function to break text into clauses\n",
    "def chunk_text_into_clauses(text, min_length=30):\n",
    "    raw_clauses = re.split(r'(?<=[.;:])\\s+', text)\n",
    "    return [c.strip() for c in raw_clauses if len(c.strip()) > min_length]\n",
    "\n",
    "# 📄 Process .txt files\n",
    "# def process_txt_files(folder_path):\n",
    "#     clauses = []\n",
    "#     for filename in os.listdir(folder_path):\n",
    "#         if filename.endswith(\".txt\"):\n",
    "#             with open(os.path.join(folder_path, filename), \"r\", encoding=\"utf-8\") as f:\n",
    "#                 text = f.read()\n",
    "#             clauses.extend(chunk_text_into_clauses(text))\n",
    "#     return clauses\n",
    "\n",
    "# 📕 Process .pdf files\n",
    "def process_pdf_files(folder_path):\n",
    "    clauses = []\n",
    "    for filename in os.listdir(folder_path):\n",
    "        if filename.endswith(\".pdf\"):\n",
    "            doc = fitz.open(os.path.join(folder_path, filename))\n",
    "            text = \"\\n\".join([page.get_text() for page in doc])\n",
    "            clauses.extend(chunk_text_into_clauses(text))\n",
    "    return clauses\n",
    "\n",
    "# 📝 Combine all clauses and export as .txt\n",
    "def build_clause_txt():\n",
    "    all_clauses = []\n",
    "    # all_clauses += process_txt_files(text_folder)\n",
    "    all_clauses += process_pdf_files(pdf_folder)\n",
    "\n",
    "    output_path = r\"D:\\GRAG_\\ContractClauseExplainer\\data\\clauses.txt\"\n",
    "    with open(output_path, \"w\", encoding=\"utf-8\") as f:\n",
    "        for clause in all_clauses:\n",
    "            f.write(clause + \"\\n\")\n",
    "\n",
    "    print(f\"✅ Done! Extracted {len(all_clauses)} clauses to {output_path}\")\n",
    "\n",
    "# 🚀 Run the script\n",
    "build_clause_txt()"
   ]
  }
 ],
 "metadata": {
  "kernelspec": {
   "display_name": "grag_cce (3.11.8)",
   "language": "python",
   "name": "python3"
  },
  "language_info": {
   "codemirror_mode": {
    "name": "ipython",
    "version": 3
   },
   "file_extension": ".py",
   "mimetype": "text/x-python",
   "name": "python",
   "nbconvert_exporter": "python",
   "pygments_lexer": "ipython3",
   "version": "3.11.8"
  }
 },
 "nbformat": 4,
 "nbformat_minor": 5
}
